{
 "cells": [
  {
   "cell_type": "markdown",
   "metadata": {},
   "source": [
    "## 1.3 Defining New Functions\n",
    "> *We have identified in Python some of the elements that must appear in any powerful programming language:*\n",
    "1. Numbers and arithmetic operations are primitive built-in data values and functions.\n",
    "2. Nested function application provides a means of combining operations.\n",
    "3. Binding names to values provides a limited means of abstraction.\n",
    "\n",
    "> *Now we will learn about **function definitions**, a much more powerful abstraction technique by which a name can be bound to compound operation, which can then be referred to as a unit.*"
   ]
  },
  {
   "cell_type": "code",
   "execution_count": null,
   "metadata": {},
   "outputs": [],
   "source": [
    "# The idea of squaring:\n",
    "# To square something, multiply it by itself, defined as a new function:\n",
    "def square(x):\n",
    "    return x * x"
   ]
  },
  {
   "cell_type": "markdown",
   "metadata": {},
   "source": [
    "#### How to define a function\n",
    "```\n",
    "def <name>(<formal paramters>):\n",
    "    return <return expression>\n",
    "```\n",
    "\n",
    "The `return` statement is evaluated only when the function is applied in a call expression., like so:"
   ]
  },
  {
   "cell_type": "code",
   "execution_count": null,
   "metadata": {},
   "outputs": [],
   "source": [
    "print(\"The square of 9 is:\", square(9))\n",
    "\n",
    "# More abstraction, abstracting more compound operations:\n",
    "def sum_squares(x, y):\n",
    "    return square(x) + square(y)"
   ]
  },
  {
   "cell_type": "markdown",
   "metadata": {},
   "source": [
    "`def` and assignment statements bind names to values, replacing pre-existing values previously binded to:"
   ]
  },
  {
   "cell_type": "code",
   "execution_count": null,
   "metadata": {},
   "outputs": [],
   "source": [
    "def foo():\n",
    "    return \"Foo\"\n",
    "foo()  # \"Foo\"\n",
    "\n",
    "# Re-assignment:\n",
    "foo = \"Bar\"\n",
    "foo  # \"Bar\"\n",
    "\n",
    "# Re-assignment:\n",
    "..."
   ]
  },
  {
   "cell_type": "markdown",
   "metadata": {},
   "source": [
    "### 1.3.1 Environments\n",
    "> What if a formal parameter has the same name as a built-in function? Can two functions share names without confusion? \n",
    "\n",
    "...I'm not making notes of this...Read official text...Only important stuff...\n",
    "\n",
    "> *The name of a function is repeated twice, once in the frame and again as part of the function itself. The name appearing in the function is called the ***intrinsic*** name. The name in a frame is a ***bound*** name. There is a difference between the two: different names may refer to the same function, but that function itself has only one intrinsic name.* (2022-05-14 4:33 PM: What does this mean???)\n",
    "\n",
    "> *The name bound to a function in a frame is the one used during evaluation. The intrinsic name of a function does not play a role in evaluation.* (2022-05-14 4:33 PM: ??? I'm not sure what it's trying to argue.)"
   ]
  },
  {
   "cell_type": "code",
   "execution_count": null,
   "metadata": {},
   "outputs": [],
   "source": [
    "# 1. Defining 'foo'. Using foo():\n",
    "def foo():\n",
    "    print(\"Foo\")\n",
    "foo()  # \"Foo\"\n",
    "\n",
    "# 2. Defining 'bar' from 'foo'. Using bar():\n",
    "bar = foo\n",
    "bar()  # \"Foo\"\n",
    "\n",
    "# 3. Deleting 'foo'. What happens to 'bar'?:\n",
    "del foo\n",
    "bar()\n"
   ]
  },
  {
   "cell_type": "markdown",
   "metadata": {},
   "source": [
    "#### Function Signatures\n",
    "- Functions differ in the number of arguments that they are allowed to take.\n",
    "- A description of the formal parameters of a function is called the function's *signature*.\n",
    "\n",
    "### 1.3.2 Calling User-Defined Functions\n"
   ]
  },
  {
   "cell_type": "code",
   "execution_count": null,
   "metadata": {},
   "outputs": [],
   "source": []
  },
  {
   "cell_type": "markdown",
   "metadata": {},
   "source": [
    "#### Name Evaluation\n",
    "\n",
    "### 1.3.3 Example: Calling a User-Defined Function\n"
   ]
  },
  {
   "cell_type": "code",
   "execution_count": null,
   "metadata": {},
   "outputs": [],
   "source": []
  },
  {
   "cell_type": "markdown",
   "metadata": {},
   "source": [
    "### 1.3.4 Local Names\n"
   ]
  },
  {
   "cell_type": "code",
   "execution_count": null,
   "metadata": {},
   "outputs": [],
   "source": []
  },
  {
   "cell_type": "markdown",
   "metadata": {},
   "source": [
    "### 1.3.5 Choosing Names\n",
    "\n",
    "### 1.3.6 Functions as Abstractions\n"
   ]
  },
  {
   "cell_type": "code",
   "execution_count": null,
   "metadata": {},
   "outputs": [],
   "source": []
  },
  {
   "cell_type": "markdown",
   "metadata": {},
   "source": [
    "#### Aspects of a functional abstraction\n",
    "\n",
    "### 1.3.7 Operators\n"
   ]
  },
  {
   "cell_type": "code",
   "execution_count": null,
   "metadata": {},
   "outputs": [],
   "source": []
  }
 ],
 "metadata": {
  "interpreter": {
   "hash": "767d51c1340bd893661ea55ea3124f6de3c7a262a8b4abca0554b478b1e2ff90"
  },
  "kernelspec": {
   "display_name": "Python 3.10.4 64-bit",
   "language": "python",
   "name": "python3"
  },
  "language_info": {
   "codemirror_mode": {
    "name": "ipython",
    "version": 3
   },
   "file_extension": ".py",
   "mimetype": "text/x-python",
   "name": "python",
   "nbconvert_exporter": "python",
   "pygments_lexer": "ipython3",
   "version": "3.10.4"
  },
  "orig_nbformat": 4
 },
 "nbformat": 4,
 "nbformat_minor": 2
}
